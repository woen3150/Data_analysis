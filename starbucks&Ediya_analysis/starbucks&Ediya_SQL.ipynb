{
 "cells": [
  {
   "attachments": {},
   "cell_type": "markdown",
   "metadata": {},
   "source": [
    "# 스타벅스 이디야 데이터 분석 - SQL 사용하기"
   ]
  },
  {
   "cell_type": "code",
   "execution_count": 290,
   "metadata": {},
   "outputs": [],
   "source": [
    "import mysql.connector\n",
    "import pandas as pd\n",
    "\n"
   ]
  },
  {
   "cell_type": "code",
   "execution_count": 291,
   "metadata": {},
   "outputs": [],
   "source": [
    "mydb = mysql.connector.connect(\n",
    "host='database-1.cf7lbkcygbj1.ap-northeast-1.rds.amazonaws.com',\n",
    "port=3306,\n",
    "user='admin',\n",
    "password='*****',\n",
    ")"
   ]
  },
  {
   "cell_type": "code",
   "execution_count": 292,
   "metadata": {},
   "outputs": [],
   "source": [
    "cur = mydb.cursor()"
   ]
  },
  {
   "cell_type": "code",
   "execution_count": 177,
   "metadata": {},
   "outputs": [
    {
     "name": "stdout",
     "output_type": "stream",
     "text": [
      "[('oneday', \"CREATE DATABASE `oneday` /*!40100 DEFAULT CHARACTER SET utf8mb4 COLLATE utf8mb4_0900_ai_ci */ /*!80016 DEFAULT ENCRYPTION='N' */\")]\n"
     ]
    }
   ],
   "source": [
    "cur.execute('SHOW CREATE DATABASE oneday')\n",
    "result=cur.fetchall()\n",
    "print(result)"
   ]
  },
  {
   "cell_type": "code",
   "execution_count": 286,
   "metadata": {},
   "outputs": [
    {
     "name": "stdout",
     "output_type": "stream",
     "text": [
      "[('GRANT USAGE ON *.* TO `oneday`@`%`',)]\n"
     ]
    }
   ],
   "source": [
    "cur.execute('SHOW GRANTS FOR \"oneday\"@\"%\"')\n",
    "result=cur.fetchall()\n",
    "print(result)"
   ]
  },
  {
   "cell_type": "code",
   "execution_count": 293,
   "metadata": {},
   "outputs": [],
   "source": [
    "cur.execute('use oneday')"
   ]
  },
  {
   "cell_type": "code",
   "execution_count": 168,
   "metadata": {},
   "outputs": [
    {
     "name": "stdout",
     "output_type": "stream",
     "text": [
      "  Field            Type Null  Key Default           Extra\n",
      "0    id          b'int'   NO  PRI    None  auto_increment\n",
      "1  name  b'varchar(10)'  YES         None                \n"
     ]
    },
    {
     "name": "stderr",
     "output_type": "stream",
     "text": [
      "C:\\Users\\Ssoony\\AppData\\Local\\Temp\\ipykernel_22076\\2910473203.py:2: UserWarning: pandas only supports SQLAlchemy connectable (engine/connection) or database string URI or sqlite3 DBAPI2 connection. Other DBAPI2 objects are not tested. Please consider using SQLAlchemy.\n",
      "  df = pd.read_sql(query,mydb)\n"
     ]
    }
   ],
   "source": [
    "query='Desc COFFEE_BRAND'\n",
    "df = pd.read_sql(query,mydb)\n",
    "print(df)"
   ]
  },
  {
   "cell_type": "code",
   "execution_count": 169,
   "metadata": {},
   "outputs": [
    {
     "name": "stdout",
     "output_type": "stream",
     "text": [
      "     Field               Type Null  Key Default           Extra\n",
      "0       id             b'int'   NO  PRI    None  auto_increment\n",
      "1    brand             b'int'  YES  MUL    None                \n",
      "2     name     b'varchar(32)'  YES         None                \n",
      "3  gu_name      b'varchar(5)'  YES         None                \n",
      "4  address    b'varchar(128)'  YES         None                \n",
      "5      lat  b'decimal(16,14)'  YES         None                \n",
      "6      lng  b'decimal(17,14)'  YES         None                \n"
     ]
    },
    {
     "name": "stderr",
     "output_type": "stream",
     "text": [
      "C:\\Users\\Ssoony\\AppData\\Local\\Temp\\ipykernel_22076\\3012202072.py:2: UserWarning: pandas only supports SQLAlchemy connectable (engine/connection) or database string URI or sqlite3 DBAPI2 connection. Other DBAPI2 objects are not tested. Please consider using SQLAlchemy.\n",
      "  df = pd.read_sql(query,mydb)\n"
     ]
    }
   ],
   "source": [
    "query='Desc COFFEE_STORE'\n",
    "df = pd.read_sql(query,mydb)\n",
    "print(df)"
   ]
  },
  {
   "cell_type": "code",
   "execution_count": 48,
   "metadata": {},
   "outputs": [],
   "source": [
    "cur.execute('INSERT INTO COFFEE_BRAND(name)value(\"STARBUCKS\")')\n",
    "cur.execute('INSERT INTO COFFEE_BRAND(name)value(\"EDIYA\")')\n"
   ]
  },
  {
   "cell_type": "code",
   "execution_count": null,
   "metadata": {},
   "outputs": [],
   "source": [
    "mydb.commit()"
   ]
  },
  {
   "cell_type": "code",
   "execution_count": 138,
   "metadata": {},
   "outputs": [
    {
     "name": "stdout",
     "output_type": "stream",
     "text": [
      "   id       name\n",
      "0   1  STARBUCKS\n",
      "1   2      EDIYA\n"
     ]
    },
    {
     "name": "stderr",
     "output_type": "stream",
     "text": [
      "C:\\Users\\Ssoony\\AppData\\Local\\Temp\\ipykernel_22076\\1419203009.py:2: UserWarning: pandas only supports SQLAlchemy connectable (engine/connection) or database string URI or sqlite3 DBAPI2 connection. Other DBAPI2 objects are not tested. Please consider using SQLAlchemy.\n",
      "  df = pd.read_sql(query,mydb)\n"
     ]
    }
   ],
   "source": [
    "query=\"SELECT*FROM COFFEE_BRAND\"\n",
    "df = pd.read_sql(query,mydb)\n",
    "print(df)"
   ]
  },
  {
   "cell_type": "code",
   "execution_count": 233,
   "metadata": {},
   "outputs": [],
   "source": [
    "\n",
    "from selenium import webdriver\n",
    "from bs4 import BeautifulSoup\n",
    "import time\n",
    "import pandas as pd\n",
    "from tqdm import tqdm_notebook"
   ]
  },
  {
   "cell_type": "code",
   "execution_count": 234,
   "metadata": {},
   "outputs": [],
   "source": [
    "\n",
    "driver=webdriver.Chrome('../driver/chromedriver.exe')\n",
    "driver.get('https://www.starbucks.co.kr/store/store_map.do?disp=locale')\n",
    "time.sleep(2)"
   ]
  },
  {
   "cell_type": "code",
   "execution_count": 235,
   "metadata": {},
   "outputs": [
    {
     "name": "stdout",
     "output_type": "stream",
     "text": [
      "Message: no such element: Unable to locate element: {\"method\":\"css selector\",\"selector\":\".holiday_notice_close a\"}\n",
      "  (Session info: chrome=108.0.5359.125)\n",
      "\n"
     ]
    }
   ],
   "source": [
    "try:\n",
    "    driver.find_element_by_css_selector('.holiday_notice_close a').click()\n",
    "except Exception as errormsg:\n",
    "    print(errormsg)"
   ]
  },
  {
   "cell_type": "code",
   "execution_count": 236,
   "metadata": {},
   "outputs": [],
   "source": [
    "driver.find_element_by_xpath('//*[@id=\"container\"]/div/form/fieldset/div/section/article[1]/article/article[2]/div[1]/div[2]/ul/li[1]/a').click()"
   ]
  },
  {
   "cell_type": "code",
   "execution_count": 237,
   "metadata": {},
   "outputs": [],
   "source": [
    "gugun=driver.find_element_by_class_name('gugun_arae_box')\n",
    "gugun_list=gugun.find_elements_by_tag_name('li')\n",
    "time.sleep(5)"
   ]
  },
  {
   "cell_type": "code",
   "execution_count": 238,
   "metadata": {},
   "outputs": [],
   "source": [
    "gugun_list[0].click()\n",
    "time.sleep(5)"
   ]
  },
  {
   "cell_type": "code",
   "execution_count": 239,
   "metadata": {},
   "outputs": [
    {
     "name": "stderr",
     "output_type": "stream",
     "text": [
      "C:\\Users\\Ssoony\\AppData\\Local\\Temp\\ipykernel_22076\\3617109532.py:5: TqdmDeprecationWarning: This function will be removed in tqdm==5.0.0\n",
      "Please use `tqdm.notebook.tqdm` instead of `tqdm.tqdm_notebook`\n",
      "  for num1 in tqdm_notebook(starbuckrawData):\n"
     ]
    },
    {
     "data": {
      "application/vnd.jupyter.widget-view+json": {
       "model_id": "0b4f50726ac94a859ede59f0f9602846",
       "version_major": 2,
       "version_minor": 0
      },
      "text/plain": [
       "  0%|          | 0/598 [00:00<?, ?it/s]"
      ]
     },
     "metadata": {},
     "output_type": "display_data"
    }
   ],
   "source": [
    "starbucksCode=driver.page_source\n",
    "bs=BeautifulSoup(starbucksCode,'lxml')\n",
    "starbucksgugun=bs.find('ul',class_='quickSearchResultBoxSidoGugun')\n",
    "starbuckrawData=starbucksgugun.find_all('li')\n",
    "for num1 in tqdm_notebook(starbuckrawData):\n",
    "    store_name=num1.find('strong').text\n",
    "    store_address=num1.find('p').text[:-9]\n",
    "    store_guname=store_address.split(' ')[1]\n",
    "    store_lat=num1['data-lat'].strip()\n",
    "    store_lng=num1['data-long'].strip()\n",
    "    cur.execute(f'INSERT INTO COFFEE_STORE(brand,name,gu_name,address,lat,lng) VALUES(1,\\\"{store_name}\\\",\\\"{store_guname}\\\",\\\"{store_address}\\\",{store_lat},{store_lng})')\n",
    "    mydb.commit()\n",
    "    time.sleep(1)\n"
   ]
  },
  {
   "cell_type": "code",
   "execution_count": 240,
   "metadata": {},
   "outputs": [],
   "source": [
    "driver.close()"
   ]
  },
  {
   "cell_type": "code",
   "execution_count": 181,
   "metadata": {},
   "outputs": [
    {
     "name": "stdout",
     "output_type": "stream",
     "text": [
      "   COUNT(*)\n",
      "0       598\n"
     ]
    },
    {
     "name": "stderr",
     "output_type": "stream",
     "text": [
      "C:\\Users\\Ssoony\\AppData\\Local\\Temp\\ipykernel_22076\\3406107624.py:2: UserWarning: pandas only supports SQLAlchemy connectable (engine/connection) or database string URI or sqlite3 DBAPI2 connection. Other DBAPI2 objects are not tested. Please consider using SQLAlchemy.\n",
      "  df = pd.read_sql(query,mydb)\n"
     ]
    }
   ],
   "source": [
    "query='select COUNT(*) from COFFEE_STORE'\n",
    "df = pd.read_sql(query,mydb)\n",
    "print(df)"
   ]
  },
  {
   "cell_type": "code",
   "execution_count": 180,
   "metadata": {},
   "outputs": [
    {
     "name": "stdout",
     "output_type": "stream",
     "text": [
      "   id  brand        name gu_name                     address        lat  \\\n",
      "0   1      1   역삼아레나빌딩       강남구     서울특별시 강남구 언주로 425 (역삼동)  37.501087   \n",
      "1   2      1    논현역사거리       강남구    서울특별시 강남구 강남대로 538 (논현동)  37.510178   \n",
      "2   3      1   신사역성일빌딩       강남구    서울특별시 강남구 강남대로 584 (논현동)  37.513931   \n",
      "3   4      1    국기원사거리       강남구    서울특별시 강남구 테헤란로 125 (역삼동)  37.499517   \n",
      "4   5      1   대치재경빌딩R       강남구  서울특별시 강남구 남부순환로 2947 (대치동)  37.494668   \n",
      "5   6      1      봉은사역       강남구    서울특별시 강남구 봉은사로 619 (삼성동)  37.515000   \n",
      "6   7      1   압구정윤성빌딩       강남구     서울특별시 강남구 논현로 834 (신사동)  37.522793   \n",
      "7   8      1    코엑스별마당       강남구    서울특별시 강남구 영동대로 513 (삼성동)  37.510150   \n",
      "8   9      1  삼성역섬유센터R       강남구    서울특별시 강남구 테헤란로 518 (대치동)  37.507750   \n",
      "9  10      1      압구정R       강남구     서울특별시 강남구 언주로 861 (신사동)  37.527367   \n",
      "\n",
      "          lng  \n",
      "0  127.043069  \n",
      "1  127.022223  \n",
      "2  127.020606  \n",
      "3  127.031495  \n",
      "4  127.062583  \n",
      "5  127.063196  \n",
      "6  127.028601  \n",
      "7  127.060275  \n",
      "8  127.060651  \n",
      "9  127.033061  \n"
     ]
    },
    {
     "name": "stderr",
     "output_type": "stream",
     "text": [
      "C:\\Users\\Ssoony\\AppData\\Local\\Temp\\ipykernel_22076\\2293126012.py:2: UserWarning: pandas only supports SQLAlchemy connectable (engine/connection) or database string URI or sqlite3 DBAPI2 connection. Other DBAPI2 objects are not tested. Please consider using SQLAlchemy.\n",
      "  df = pd.read_sql(query,mydb)\n"
     ]
    }
   ],
   "source": [
    "query='select * from COFFEE_STORE limit 10'\n",
    "df = pd.read_sql(query,mydb)\n",
    "print(df)"
   ]
  },
  {
   "cell_type": "code",
   "execution_count": 241,
   "metadata": {},
   "outputs": [],
   "source": [
    "import googlemaps\n"
   ]
  },
  {
   "cell_type": "code",
   "execution_count": 242,
   "metadata": {},
   "outputs": [],
   "source": [
    "gmaps_key='....'\n",
    "gmaps=googlemaps.Client(key=gmaps_key)"
   ]
  },
  {
   "cell_type": "code",
   "execution_count": 243,
   "metadata": {},
   "outputs": [],
   "source": [
    "driver=webdriver.Chrome('../driver/chromedriver.exe')\n",
    "driver.get('https://www.ediya.com/contents/find_store.html')\n",
    "time.sleep(2)"
   ]
  },
  {
   "cell_type": "code",
   "execution_count": 244,
   "metadata": {},
   "outputs": [
    {
     "name": "stderr",
     "output_type": "stream",
     "text": [
      "C:\\Users\\Ssoony\\AppData\\Local\\Temp\\ipykernel_22076\\2674224659.py:2: UserWarning: pandas only supports SQLAlchemy connectable (engine/connection) or database string URI or sqlite3 DBAPI2 connection. Other DBAPI2 objects are not tested. Please consider using SQLAlchemy.\n",
      "  df = pd.read_sql(query,mydb)\n"
     ]
    }
   ],
   "source": [
    "query='SELECT DISTINCT gu_name FROM COFFEE_STORE WHERE brand = 1'\n",
    "df = pd.read_sql(query,mydb)\n",
    "gu_list=df.gu_name.to_list()"
   ]
  },
  {
   "cell_type": "code",
   "execution_count": 245,
   "metadata": {},
   "outputs": [],
   "source": [
    "driver.find_element_by_xpath('//*[@id=\"contentWrap\"]/div[3]/div/div[1]/ul/li[2]/a').click()"
   ]
  },
  {
   "cell_type": "code",
   "execution_count": 246,
   "metadata": {},
   "outputs": [
    {
     "name": "stderr",
     "output_type": "stream",
     "text": [
      "C:\\Users\\Ssoony\\AppData\\Local\\Temp\\ipykernel_22076\\148929880.py:1: TqdmDeprecationWarning: This function will be removed in tqdm==5.0.0\n",
      "Please use `tqdm.notebook.tqdm` instead of `tqdm.tqdm_notebook`\n",
      "  for gu in tqdm_notebook(gu_list):\n"
     ]
    },
    {
     "data": {
      "application/vnd.jupyter.widget-view+json": {
       "model_id": "e2471f8274344f31b4f069269b26955e",
       "version_major": 2,
       "version_minor": 0
      },
      "text/plain": [
       "  0%|          | 0/25 [00:00<?, ?it/s]"
      ]
     },
     "metadata": {},
     "output_type": "display_data"
    }
   ],
   "source": [
    "for gu in tqdm_notebook(gu_list):\n",
    "    driver.find_element_by_id('keyword').clear()\n",
    "    driver.find_element_by_id('keyword').send_keys(f'서울 {gu}')\n",
    "    driver.find_element_by_id('keyword').submit()\n",
    "    time.sleep(2)\n",
    "\n",
    "    ediyaCode=driver.page_source\n",
    "    bs=BeautifulSoup(ediyaCode,'lxml')\n",
    "    ediya_gu=bs.find('ul',id='placesList')\n",
    "    ediyaRawData=ediya_gu.find_all('dl')\n",
    "\n",
    "    for num2 in ediyaRawData:\n",
    "        store_name=num2.find('dt').text\n",
    "        store_address=num2.find('dd').text\n",
    "        store_guname=store_address.split(' ')[1]\n",
    "        try :\n",
    "            tmp=gmaps.geocode(store_address, language='ko')\n",
    "            store_lat=tmp[0].get('geometry')['location']['lat']\n",
    "            store_lng=tmp[0].get('geometry')['location']['lng']\n",
    "        except:\n",
    "            last_adress=store_address[:store_address.index('(')]\n",
    "            tmp=gmaps.geocode(last_adress, language='ko')\n",
    "            store_lat=tmp[0].get('geometry')['location']['lat']\n",
    "            store_lng=tmp[0].get('geometry')['location']['lng'] \n",
    "        cur.execute(f'INSERT INTO COFFEE_STORE(brand,name,gu_name,address,lat,lng) VALUES(2,\\\"{store_name}\\\",\\\"{store_guname}\\\",\\\"{store_address}\\\",{store_lat},{store_lng})')\n",
    "        mydb.commit()    \n",
    "    time.sleep(1)"
   ]
  },
  {
   "cell_type": "code",
   "execution_count": 247,
   "metadata": {},
   "outputs": [],
   "source": [
    "driver.close()"
   ]
  },
  {
   "cell_type": "code",
   "execution_count": 251,
   "metadata": {},
   "outputs": [
    {
     "name": "stdout",
     "output_type": "stream",
     "text": [
      "   COUNT(*)\n",
      "0       711\n"
     ]
    },
    {
     "name": "stderr",
     "output_type": "stream",
     "text": [
      "C:\\Users\\Ssoony\\AppData\\Local\\Temp\\ipykernel_22076\\3429644352.py:2: UserWarning: pandas only supports SQLAlchemy connectable (engine/connection) or database string URI or sqlite3 DBAPI2 connection. Other DBAPI2 objects are not tested. Please consider using SQLAlchemy.\n",
      "  df = pd.read_sql(query,mydb)\n"
     ]
    }
   ],
   "source": [
    "query='select COUNT(*) from COFFEE_STORE where brand=2'\n",
    "df = pd.read_sql(query,mydb)\n",
    "print(df)"
   ]
  },
  {
   "cell_type": "code",
   "execution_count": 278,
   "metadata": {},
   "outputs": [
    {
     "name": "stdout",
     "output_type": "stream",
     "text": [
      "    id  brand         name gu_name                          address  \\\n",
      "0  599      2      강남YMCA점     강남구                       서울 강남구 논현동   \n",
      "1  600      2  강남구청역아이티웨딩점     강남구      서울 강남구 학동로 338 (논현동, 강남파라곤)   \n",
      "2  601      2      강남논현학동점     강남구          서울 강남구 논현로131길 28 (논현동)   \n",
      "3  602      2        강남대치점     강남구       서울 강남구 역삼로 415 (대치동, 성진빌딩)   \n",
      "4  603      2        강남도산점     강남구          서울 강남구 도산대로37길 20 (신사동)   \n",
      "5  604      2        강남세곡점     강남구  서울 강남구 헌릉로569길 9 (세곡동, 강남지웰파인즈)   \n",
      "6  605      2        강남율현점     강남구    서울 강남구 밤고개로21길 8 (율현동, 세곡프라자)   \n",
      "7  606      2        강남자곡점     강남구   서울 강남구 자곡로 180 (자곡동, 강남유탑유블레스)   \n",
      "8  607      2        개포동역점     강남구     서울 강남구 개포로82길 11 (개포동, 삼우빌딩)   \n",
      "9  608      2        건설회관점     강남구             서울 강남구 언주로 711 (논현동)   \n",
      "\n",
      "         lat         lng  \n",
      "0  37.513530  127.031534  \n",
      "1  37.516466  127.040419  \n",
      "2  37.514227  127.028666  \n",
      "3  37.501251  127.052382  \n",
      "4  37.522241  127.031481  \n",
      "5  37.466973  127.100526  \n",
      "6  37.469659  127.113020  \n",
      "7  37.473485  127.103098  \n",
      "8  37.488521  127.067432  \n",
      "9  37.516300  127.029912  \n"
     ]
    },
    {
     "name": "stderr",
     "output_type": "stream",
     "text": [
      "C:\\Users\\Ssoony\\AppData\\Local\\Temp\\ipykernel_22076\\3808716761.py:2: UserWarning: pandas only supports SQLAlchemy connectable (engine/connection) or database string URI or sqlite3 DBAPI2 connection. Other DBAPI2 objects are not tested. Please consider using SQLAlchemy.\n",
      "  df = pd.read_sql(query,mydb)\n"
     ]
    }
   ],
   "source": [
    "query='select * from COFFEE_STORE where brand=2 limit 10'\n",
    "df = pd.read_sql(query,mydb)\n",
    "print(df)"
   ]
  },
  {
   "attachments": {},
   "cell_type": "markdown",
   "metadata": {},
   "source": [
    " - 스타벅스 매장 주요 분포 지역 (매장수가 많은 상위 5개 구이름, 매장 개수 출력)"
   ]
  },
  {
   "cell_type": "code",
   "execution_count": 279,
   "metadata": {},
   "outputs": [
    {
     "name": "stdout",
     "output_type": "stream",
     "text": [
      "  gu_name  Total_Store\n",
      "0     강남구           88\n",
      "1      중구           55\n",
      "2     서초구           48\n",
      "3    영등포구           41\n",
      "4     종로구           40\n"
     ]
    },
    {
     "name": "stderr",
     "output_type": "stream",
     "text": [
      "C:\\Users\\Ssoony\\AppData\\Local\\Temp\\ipykernel_22076\\1425266769.py:2: UserWarning: pandas only supports SQLAlchemy connectable (engine/connection) or database string URI or sqlite3 DBAPI2 connection. Other DBAPI2 objects are not tested. Please consider using SQLAlchemy.\n",
      "  df = pd.read_sql(query,mydb)\n"
     ]
    }
   ],
   "source": [
    "query='select gu_name, count(*) as Total_Store from COFFEE_STORE where brand=1 group by gu_name order by count(*) desc limit 5'\n",
    "df = pd.read_sql(query,mydb)\n",
    "print(df)"
   ]
  },
  {
   "attachments": {},
   "cell_type": "markdown",
   "metadata": {},
   "source": [
    "- 이디야 매장 주요 분포 지역 (매장수가 많은 상위 5개 구이름, 매장 개수 출력)"
   ]
  },
  {
   "cell_type": "code",
   "execution_count": 280,
   "metadata": {},
   "outputs": [
    {
     "name": "stdout",
     "output_type": "stream",
     "text": [
      "  gu_name  Total_Store\n",
      "0     강남구           45\n",
      "1     강서구           42\n",
      "2    영등포구           41\n",
      "3     송파구           39\n",
      "4     마포구           36\n"
     ]
    },
    {
     "name": "stderr",
     "output_type": "stream",
     "text": [
      "C:\\Users\\Ssoony\\AppData\\Local\\Temp\\ipykernel_22076\\1015218344.py:2: UserWarning: pandas only supports SQLAlchemy connectable (engine/connection) or database string URI or sqlite3 DBAPI2 connection. Other DBAPI2 objects are not tested. Please consider using SQLAlchemy.\n",
      "  df = pd.read_sql(query,mydb)\n"
     ]
    }
   ],
   "source": [
    "query='select gu_name, count(*) as Total_Store from COFFEE_STORE where brand=2 group by gu_name order by count(*) desc limit 5'\n",
    "df = pd.read_sql(query,mydb)\n",
    "print(df)"
   ]
  },
  {
   "attachments": {},
   "cell_type": "markdown",
   "metadata": {},
   "source": [
    "- 구별 브랜드 각각의 매장 개수 조회 (구이름, 브랜드이름, 매장 개수 출력)"
   ]
  },
  {
   "cell_type": "code",
   "execution_count": 281,
   "metadata": {},
   "outputs": [
    {
     "name": "stdout",
     "output_type": "stream",
     "text": [
      "   gu_name       name  total_store\n",
      "0      강남구  STARBUCKS           88\n",
      "1      강남구      EDIYA           45\n",
      "2      강동구  STARBUCKS           17\n",
      "3      강동구      EDIYA           26\n",
      "4      강북구  STARBUCKS            6\n",
      "5      강북구      EDIYA           20\n",
      "6      강서구  STARBUCKS           25\n",
      "7      강서구      EDIYA           42\n",
      "8      관악구  STARBUCKS           12\n",
      "9      관악구      EDIYA           28\n",
      "10     광진구  STARBUCKS           19\n",
      "11     광진구      EDIYA           24\n",
      "12     구로구  STARBUCKS           13\n",
      "13     구로구      EDIYA           29\n",
      "14     금천구  STARBUCKS           13\n",
      "15     금천구      EDIYA           23\n",
      "16     노원구  STARBUCKS           14\n",
      "17     노원구      EDIYA           30\n",
      "18     도봉구  STARBUCKS            4\n",
      "19     도봉구      EDIYA           24\n",
      "20    동대문구  STARBUCKS           10\n",
      "21    동대문구      EDIYA           25\n",
      "22     동작구  STARBUCKS           11\n",
      "23     동작구      EDIYA           22\n",
      "24     마포구  STARBUCKS           35\n",
      "25     마포구      EDIYA           36\n",
      "26    서대문구  STARBUCKS           22\n",
      "27    서대문구      EDIYA           21\n",
      "28     서초구  STARBUCKS           48\n",
      "29     서초구      EDIYA           29\n",
      "30     성동구  STARBUCKS           15\n",
      "31     성동구      EDIYA           22\n",
      "32     성북구  STARBUCKS           15\n",
      "33     성북구      EDIYA           31\n",
      "34     송파구  STARBUCKS           34\n",
      "35     송파구      EDIYA           39\n",
      "36     양천구  STARBUCKS           17\n",
      "37     양천구      EDIYA           26\n",
      "38    영등포구  STARBUCKS           41\n",
      "39    영등포구      EDIYA           41\n",
      "40     용산구  STARBUCKS           25\n",
      "41     용산구      EDIYA           14\n",
      "42     은평구  STARBUCKS           11\n",
      "43     은평구      EDIYA           25\n",
      "44     종로구  STARBUCKS           40\n",
      "45     종로구      EDIYA           31\n",
      "46      중구  STARBUCKS           55\n",
      "47      중구      EDIYA           30\n",
      "48     중랑구  STARBUCKS            8\n",
      "49     중랑구      EDIYA           28\n"
     ]
    },
    {
     "name": "stderr",
     "output_type": "stream",
     "text": [
      "C:\\Users\\Ssoony\\AppData\\Local\\Temp\\ipykernel_22076\\381225149.py:2: UserWarning: pandas only supports SQLAlchemy connectable (engine/connection) or database string URI or sqlite3 DBAPI2 connection. Other DBAPI2 objects are not tested. Please consider using SQLAlchemy.\n",
      "  df = pd.read_sql(query,mydb)\n"
     ]
    }
   ],
   "source": [
    "query='select s.gu_name, b.name, count(*) as total_store from COFFEE_BRAND b join COFFEE_STORE s on b.id=s.brand group by s.gu_name, b.name order by s.gu_name, s.brand'\n",
    "df = pd.read_sql(query,mydb)\n",
    "print(df)"
   ]
  },
  {
   "attachments": {},
   "cell_type": "markdown",
   "metadata": {},
   "source": [
    " - 구별 브랜드 각각의 매장 개수 조회 (구이름, 스타벅스 매장 개수, 이디야 매장 개수 출력)"
   ]
  },
  {
   "cell_type": "code",
   "execution_count": 282,
   "metadata": {},
   "outputs": [
    {
     "name": "stdout",
     "output_type": "stream",
     "text": [
      "   gu_name  STARBUCKS  EDIYA\n",
      "0      강남구         88     45\n",
      "1      강북구          6     20\n",
      "2      강서구         25     42\n",
      "3      관악구         12     28\n",
      "4      광진구         19     24\n",
      "5      금천구         13     23\n",
      "6      노원구         14     30\n",
      "7      도봉구          4     24\n",
      "8      동작구         11     22\n",
      "9      마포구         35     36\n",
      "10    서대문구         22     21\n",
      "11     서초구         48     29\n",
      "12     성북구         15     31\n",
      "13     송파구         34     39\n",
      "14     양천구         17     26\n",
      "15    영등포구         41     41\n",
      "16     은평구         11     25\n",
      "17     종로구         40     31\n",
      "18      중구         55     30\n",
      "19     강동구         17     26\n",
      "20     구로구         13     29\n",
      "21    동대문구         10     25\n",
      "22     성동구         15     22\n",
      "23     용산구         25     14\n",
      "24     중랑구          8     28\n"
     ]
    },
    {
     "name": "stderr",
     "output_type": "stream",
     "text": [
      "C:\\Users\\Ssoony\\AppData\\Local\\Temp\\ipykernel_22076\\1081149903.py:2: UserWarning: pandas only supports SQLAlchemy connectable (engine/connection) or database string URI or sqlite3 DBAPI2 connection. Other DBAPI2 objects are not tested. Please consider using SQLAlchemy.\n",
      "  df = pd.read_sql(query,mydb)\n"
     ]
    }
   ],
   "source": [
    "query='select gu_name, count(case when brand=1 then 1 end) as STARBUCKS, count(case when brand=2 then 1 end) as EDIYA from COFFEE_STORE group by gu_name'\n",
    "df = pd.read_sql(query,mydb)\n",
    "print(df)"
   ]
  },
  {
   "cell_type": "code",
   "execution_count": 294,
   "metadata": {},
   "outputs": [],
   "source": [
    "cur.execute('INSERT INTO STARBUCKS SELECT * FROM COFFEE_STORE WHERE brand=1')\n",
    "cur.execute('INSERT INTO EDIYA SELECT * FROM COFFEE_STORE WHERE brand=2')"
   ]
  },
  {
   "cell_type": "code",
   "execution_count": 296,
   "metadata": {},
   "outputs": [],
   "source": [
    "mydb.commit()"
   ]
  },
  {
   "cell_type": "code",
   "execution_count": 295,
   "metadata": {},
   "outputs": [
    {
     "name": "stderr",
     "output_type": "stream",
     "text": [
      "C:\\Users\\Ssoony\\AppData\\Local\\Temp\\ipykernel_22076\\2792974278.py:2: UserWarning: pandas only supports SQLAlchemy connectable (engine/connection) or database string URI or sqlite3 DBAPI2 connection. Other DBAPI2 objects are not tested. Please consider using SQLAlchemy.\n",
      "  df = pd.read_sql(query,mydb)\n"
     ]
    },
    {
     "name": "stdout",
     "output_type": "stream",
     "text": [
      "        s_id    s_brand     s_name s_gu                s_address      s_lat  \\\n",
      "0          1  STARBUCKS  역삼아레나빌딩    강남구  서울특별시 강남구 언주로 425 (역삼동)  37.501087   \n",
      "1          1  STARBUCKS  역삼아레나빌딩    강남구  서울특별시 강남구 언주로 425 (역삼동)  37.501087   \n",
      "2          1  STARBUCKS  역삼아레나빌딩    강남구  서울특별시 강남구 언주로 425 (역삼동)  37.501087   \n",
      "3          1  STARBUCKS  역삼아레나빌딩    강남구  서울특별시 강남구 언주로 425 (역삼동)  37.501087   \n",
      "4          1  STARBUCKS  역삼아레나빌딩    강남구  서울특별시 강남구 언주로 425 (역삼동)  37.501087   \n",
      "...      ...        ...        ...  ...                      ...        ...   \n",
      "425173   598  STARBUCKS      중화역    중랑구       서울특별시 중랑구 봉화산로 35   37.601709   \n",
      "425174   598  STARBUCKS      중화역    중랑구       서울특별시 중랑구 봉화산로 35   37.601709   \n",
      "425175   598  STARBUCKS      중화역    중랑구       서울특별시 중랑구 봉화산로 35   37.601709   \n",
      "425176   598  STARBUCKS      중화역    중랑구       서울특별시 중랑구 봉화산로 35   37.601709   \n",
      "425177   598  STARBUCKS      중화역    중랑구       서울특별시 중랑구 봉화산로 35   37.601709   \n",
      "\n",
      "             s_lng  d_id e_brand       e_name e_gu  \\\n",
      "0       127.043069   599   EDIYA      강남YMCA점  강남구   \n",
      "1       127.043069   600   EDIYA  강남구청역아이티웨딩점  강남구   \n",
      "2       127.043069   601   EDIYA      강남논현학동점  강남구   \n",
      "3       127.043069   602   EDIYA        강남대치점  강남구   \n",
      "4       127.043069   603   EDIYA        강남도산점  강남구   \n",
      "...            ...   ...     ...          ...  ...   \n",
      "425173  127.078411  1305   EDIYA       중랑교차로점  중랑구   \n",
      "425174  127.078411  1306   EDIYA         중랑역점  중랑구   \n",
      "425175  127.078411  1307   EDIYA         중화동점  중랑구   \n",
      "425176  127.078411  1308   EDIYA         중화역점  중랑구   \n",
      "425177  127.078411  1309   EDIYA        화랑대역점  중랑구   \n",
      "\n",
      "                          e_address      e_lat       e_lng  \n",
      "0                        서울 강남구 논현동  37.513530  127.031534  \n",
      "1       서울 강남구 학동로 338 (논현동, 강남파라곤)  37.516466  127.040419  \n",
      "2           서울 강남구 논현로131길 28 (논현동)  37.514227  127.028666  \n",
      "3        서울 강남구 역삼로 415 (대치동, 성진빌딩)  37.501251  127.052382  \n",
      "4           서울 강남구 도산대로37길 20 (신사동)  37.522241  127.031481  \n",
      "...                             ...        ...         ...  \n",
      "425173         서울 중랑구 동일로 683 (면목동)  37.591397  127.079841  \n",
      "425174         서울 중랑구 망우로 198 (상봉동)  37.593212  127.074866  \n",
      "425175       서울 중랑구 동일로129길 1 (중화동)  37.599293  127.078348  \n",
      "425176           서울 중랑구 동일로 815, 1층  37.603092  127.078876  \n",
      "425177  서울 중랑구 신내로25가길 2 (묵동, 현동학당)  37.619451  127.084160  \n",
      "\n",
      "[425178 rows x 14 columns]\n"
     ]
    }
   ],
   "source": [
    "query=(\"select s.id as s_id, case s.brand when 1 then 'STARBUCKS' else 'EDIYA' end as s_brand, s.name as s_name, s.gu_name as s_gu, s.address as s_address, s.lat as s_lat, s.lng as s_lng, e.id as d_id, case e.brand when 1 then 'STARBUCKS' else 'EDIYA' end as e_brand, e.name as e_name, e.gu_name as e_gu, e.address as e_address, e.lat as e_lat, e.lng as e_lng from STARBUCKS s, EDIYA e order by s.id, e.id\")\n",
    "df = pd.read_sql(query,mydb)\n",
    "print(df)"
   ]
  },
  {
   "cell_type": "code",
   "execution_count": 298,
   "metadata": {},
   "outputs": [],
   "source": [
    "df.to_csv('C:/Users/Ssoony/Documents/ds_study/data/07.COFFEE_BRAND_DATA.csv', sep=',', encoding='euc-kr')"
   ]
  }
 ],
 "metadata": {
  "kernelspec": {
   "display_name": "ds_study",
   "language": "python",
   "name": "python3"
  },
  "language_info": {
   "codemirror_mode": {
    "name": "ipython",
    "version": 3
   },
   "file_extension": ".py",
   "mimetype": "text/x-python",
   "name": "python",
   "nbconvert_exporter": "python",
   "pygments_lexer": "ipython3",
   "version": "3.8.15 (default, Nov 24 2022, 14:38:14) [MSC v.1916 64 bit (AMD64)]"
  },
  "orig_nbformat": 4,
  "vscode": {
   "interpreter": {
    "hash": "aceed0165250393bc6d3372b6222b9c0e82e6c885f449d3111c6d29b3e13c33a"
   }
  }
 },
 "nbformat": 4,
 "nbformat_minor": 2
}
