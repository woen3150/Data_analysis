{
 "cells": [
  {
   "attachments": {},
   "cell_type": "markdown",
   "metadata": {},
   "source": [
    "# 주유소 데이터 수집"
   ]
  },
  {
   "cell_type": "markdown",
   "metadata": {},
   "source": [
    "### 필요한 모듈 가져오기"
   ]
  },
  {
   "cell_type": "code",
   "execution_count": 9,
   "metadata": {},
   "outputs": [],
   "source": [
    "from selenium import webdriver\n",
    "from selenium.webdriver.common.action_chains import ActionChains\n",
    "from bs4 import BeautifulSoup\n",
    "import time\n",
    "import pandas as pd\n",
    "from tqdm import tqdm_notebook\n",
    "import seaborn as sns\n",
    "import googlemaps\n",
    "from tqdm import tqdm\n",
    "import numpy as np\n"
   ]
  },
  {
   "cell_type": "markdown",
   "metadata": {},
   "source": [
    "### 구글 드라이브 실행"
   ]
  },
  {
   "cell_type": "code",
   "execution_count": 13,
   "metadata": {},
   "outputs": [],
   "source": [
    "driver=webdriver.Chrome('../driver/chromedriver.exe')\n",
    "driver.get('https://www.opinet.co.kr/searRgSelect.do')\n",
    "time.sleep(4)"
   ]
  },
  {
   "cell_type": "markdown",
   "metadata": {},
   "source": [
    "### 데이터 웹 크롤링"
   ]
  },
  {
   "cell_type": "code",
   "execution_count": 14,
   "metadata": {},
   "outputs": [],
   "source": [
    "searchRegion=driver.find_element_by_class_name('gnbTopa')\n",
    "ActionChains(driver).move_to_element(searchRegion).perform()\n",
    "selectRegion=driver.find_element_by_xpath('//*[@id=\"header\"]/div/ul/li[1]/ul/li[1]/a')\n",
    "selectRegion.click()"
   ]
  },
  {
   "cell_type": "code",
   "execution_count": 15,
   "metadata": {},
   "outputs": [],
   "source": [
    "sido_list_raw=driver.find_element_by_id('SIDO_NM0')\n",
    "sido_list=driver.find_elements_by_tag_name('option')\n",
    "sido_names=[option.get_attribute('value') for option in sido_list]\n",
    "sido_names.remove('')\n",
    "sido_list_raw.send_keys(sido_names[0])\n",
    "time.sleep(2)\n"
   ]
  },
  {
   "cell_type": "code",
   "execution_count": 16,
   "metadata": {},
   "outputs": [],
   "source": [
    "gu_list_raw=driver.find_element_by_id('SIGUNGU_NM0')\n",
    "gu_list=gu_list_raw.find_elements_by_tag_name('option')\n",
    "gu_names=[option.get_attribute('value') for option in gu_list]   \n",
    "gu_names.remove('')\n",
    "time.sleep(3)"
   ]
  },
  {
   "cell_type": "code",
   "execution_count": 17,
   "metadata": {},
   "outputs": [],
   "source": [
    "driver.find_element_by_id('CWSH_YN').click()\n",
    "driver.find_element_by_id('MAINT_YN').click()\n",
    "driver.find_element_by_id('CVS_YN').click()\n",
    "driver.find_element_by_id('SEL24_YN').click()\n",
    "time.sleep(2)"
   ]
  },
  {
   "cell_type": "markdown",
   "metadata": {},
   "source": [
    "### 데이터 정리하여 수집"
   ]
  },
  {
   "cell_type": "code",
   "execution_count": 18,
   "metadata": {},
   "outputs": [
    {
     "name": "stderr",
     "output_type": "stream",
     "text": [
      "C:\\Users\\Ssoony\\AppData\\Local\\Temp\\ipykernel_14880\\2617608859.py:2: TqdmDeprecationWarning: This function will be removed in tqdm==5.0.0\n",
      "Please use `tqdm.notebook.tqdm` instead of `tqdm.tqdm_notebook`\n",
      "  for gu in tqdm_notebook(gu_names):\n"
     ]
    },
    {
     "data": {
      "application/vnd.jupyter.widget-view+json": {
       "model_id": "e856400e3cef4fd0b2d470c88bd1eb69",
       "version_major": 2,
       "version_minor": 0
      },
      "text/plain": [
       "  0%|          | 0/25 [00:00<?, ?it/s]"
      ]
     },
     "metadata": {},
     "output_type": "display_data"
    },
    {
     "name": "stderr",
     "output_type": "stream",
     "text": [
      "C:\\Users\\Ssoony\\AppData\\Local\\Temp\\ipykernel_14880\\2617608859.py:11: TqdmDeprecationWarning: This function will be removed in tqdm==5.0.0\n",
      "Please use `tqdm.notebook.tqdm` instead of `tqdm.tqdm_notebook`\n",
      "  for num1 in tqdm_notebook(gasstation_raw_data):\n"
     ]
    },
    {
     "data": {
      "application/vnd.jupyter.widget-view+json": {
       "model_id": "ab565166ed6c41559b089094b67d0295",
       "version_major": 2,
       "version_minor": 0
      },
      "text/plain": [
       "  0%|          | 0/29 [00:00<?, ?it/s]"
      ]
     },
     "metadata": {},
     "output_type": "display_data"
    },
    {
     "data": {
      "application/vnd.jupyter.widget-view+json": {
       "model_id": "8e596b9f7600436292db35170886873c",
       "version_major": 2,
       "version_minor": 0
      },
      "text/plain": [
       "  0%|          | 0/12 [00:00<?, ?it/s]"
      ]
     },
     "metadata": {},
     "output_type": "display_data"
    },
    {
     "data": {
      "application/vnd.jupyter.widget-view+json": {
       "model_id": "8fd544692c6e4bcfac44930bac6b8d57",
       "version_major": 2,
       "version_minor": 0
      },
      "text/plain": [
       "  0%|          | 0/9 [00:00<?, ?it/s]"
      ]
     },
     "metadata": {},
     "output_type": "display_data"
    },
    {
     "data": {
      "application/vnd.jupyter.widget-view+json": {
       "model_id": "1654429b716e4303bfe4dc44c94f69c1",
       "version_major": 2,
       "version_minor": 0
      },
      "text/plain": [
       "  0%|          | 0/26 [00:00<?, ?it/s]"
      ]
     },
     "metadata": {},
     "output_type": "display_data"
    },
    {
     "data": {
      "application/vnd.jupyter.widget-view+json": {
       "model_id": "c45c40e9066f4a64b007d347e5b0f5c7",
       "version_major": 2,
       "version_minor": 0
      },
      "text/plain": [
       "  0%|          | 0/10 [00:00<?, ?it/s]"
      ]
     },
     "metadata": {},
     "output_type": "display_data"
    },
    {
     "data": {
      "application/vnd.jupyter.widget-view+json": {
       "model_id": "3e0f178ce7c84aa6a3be2aa08309c23e",
       "version_major": 2,
       "version_minor": 0
      },
      "text/plain": [
       "  0%|          | 0/9 [00:00<?, ?it/s]"
      ]
     },
     "metadata": {},
     "output_type": "display_data"
    },
    {
     "data": {
      "application/vnd.jupyter.widget-view+json": {
       "model_id": "c1fb521f710f4fa6b5cc01456deda6fc",
       "version_major": 2,
       "version_minor": 0
      },
      "text/plain": [
       "  0%|          | 0/15 [00:00<?, ?it/s]"
      ]
     },
     "metadata": {},
     "output_type": "display_data"
    },
    {
     "data": {
      "application/vnd.jupyter.widget-view+json": {
       "model_id": "0642c493853e48c18da626d9c0ddd14e",
       "version_major": 2,
       "version_minor": 0
      },
      "text/plain": [
       "  0%|          | 0/8 [00:00<?, ?it/s]"
      ]
     },
     "metadata": {},
     "output_type": "display_data"
    },
    {
     "data": {
      "application/vnd.jupyter.widget-view+json": {
       "model_id": "0b375b221abb467480fcca7b42250bf1",
       "version_major": 2,
       "version_minor": 0
      },
      "text/plain": [
       "  0%|          | 0/13 [00:00<?, ?it/s]"
      ]
     },
     "metadata": {},
     "output_type": "display_data"
    },
    {
     "data": {
      "application/vnd.jupyter.widget-view+json": {
       "model_id": "3d252a0448584f039fcfe31d57fed1a8",
       "version_major": 2,
       "version_minor": 0
      },
      "text/plain": [
       "  0%|          | 0/13 [00:00<?, ?it/s]"
      ]
     },
     "metadata": {},
     "output_type": "display_data"
    },
    {
     "data": {
      "application/vnd.jupyter.widget-view+json": {
       "model_id": "de6387d00191493f96803b54561843d9",
       "version_major": 2,
       "version_minor": 0
      },
      "text/plain": [
       "  0%|          | 0/11 [00:00<?, ?it/s]"
      ]
     },
     "metadata": {},
     "output_type": "display_data"
    },
    {
     "data": {
      "application/vnd.jupyter.widget-view+json": {
       "model_id": "a511cf5405f64c3782f9dfd588c4308e",
       "version_major": 2,
       "version_minor": 0
      },
      "text/plain": [
       "  0%|          | 0/7 [00:00<?, ?it/s]"
      ]
     },
     "metadata": {},
     "output_type": "display_data"
    },
    {
     "data": {
      "application/vnd.jupyter.widget-view+json": {
       "model_id": "1c595ad770e041cb82d6ceb273653d7e",
       "version_major": 2,
       "version_minor": 0
      },
      "text/plain": [
       "  0%|          | 0/9 [00:00<?, ?it/s]"
      ]
     },
     "metadata": {},
     "output_type": "display_data"
    },
    {
     "data": {
      "application/vnd.jupyter.widget-view+json": {
       "model_id": "3b202e26f2404e78a6a932f8db394a65",
       "version_major": 2,
       "version_minor": 0
      },
      "text/plain": [
       "  0%|          | 0/13 [00:00<?, ?it/s]"
      ]
     },
     "metadata": {},
     "output_type": "display_data"
    },
    {
     "data": {
      "application/vnd.jupyter.widget-view+json": {
       "model_id": "219dd495c73b4ec0a4db24cb4b28f23e",
       "version_major": 2,
       "version_minor": 0
      },
      "text/plain": [
       "  0%|          | 0/26 [00:00<?, ?it/s]"
      ]
     },
     "metadata": {},
     "output_type": "display_data"
    },
    {
     "data": {
      "application/vnd.jupyter.widget-view+json": {
       "model_id": "612773ffd40d4658bb1866424e59bd82",
       "version_major": 2,
       "version_minor": 0
      },
      "text/plain": [
       "  0%|          | 0/12 [00:00<?, ?it/s]"
      ]
     },
     "metadata": {},
     "output_type": "display_data"
    },
    {
     "data": {
      "application/vnd.jupyter.widget-view+json": {
       "model_id": "73cf9eb984ea46a99307b0a45239ee76",
       "version_major": 2,
       "version_minor": 0
      },
      "text/plain": [
       "  0%|          | 0/16 [00:00<?, ?it/s]"
      ]
     },
     "metadata": {},
     "output_type": "display_data"
    },
    {
     "data": {
      "application/vnd.jupyter.widget-view+json": {
       "model_id": "77defdce4f4b4853beb49cf6cb0a7d0b",
       "version_major": 2,
       "version_minor": 0
      },
      "text/plain": [
       "  0%|          | 0/26 [00:00<?, ?it/s]"
      ]
     },
     "metadata": {},
     "output_type": "display_data"
    },
    {
     "data": {
      "application/vnd.jupyter.widget-view+json": {
       "model_id": "d7a8a44173f24d31b4acdc5d06cc38fa",
       "version_major": 2,
       "version_minor": 0
      },
      "text/plain": [
       "  0%|          | 0/20 [00:00<?, ?it/s]"
      ]
     },
     "metadata": {},
     "output_type": "display_data"
    },
    {
     "data": {
      "application/vnd.jupyter.widget-view+json": {
       "model_id": "f9868da052604c3bad7bf331fcf3103a",
       "version_major": 2,
       "version_minor": 0
      },
      "text/plain": [
       "  0%|          | 0/23 [00:00<?, ?it/s]"
      ]
     },
     "metadata": {},
     "output_type": "display_data"
    },
    {
     "data": {
      "application/vnd.jupyter.widget-view+json": {
       "model_id": "a006732c95d1420584256ad4de908ee1",
       "version_major": 2,
       "version_minor": 0
      },
      "text/plain": [
       "  0%|          | 0/11 [00:00<?, ?it/s]"
      ]
     },
     "metadata": {},
     "output_type": "display_data"
    },
    {
     "data": {
      "application/vnd.jupyter.widget-view+json": {
       "model_id": "f5a9af7c5b454741a95bd82dcda461d1",
       "version_major": 2,
       "version_minor": 0
      },
      "text/plain": [
       "  0%|          | 0/12 [00:00<?, ?it/s]"
      ]
     },
     "metadata": {},
     "output_type": "display_data"
    },
    {
     "data": {
      "application/vnd.jupyter.widget-view+json": {
       "model_id": "7f89cdf55cd4413abb76148b9aa3f61b",
       "version_major": 2,
       "version_minor": 0
      },
      "text/plain": [
       "  0%|          | 0/5 [00:00<?, ?it/s]"
      ]
     },
     "metadata": {},
     "output_type": "display_data"
    },
    {
     "data": {
      "application/vnd.jupyter.widget-view+json": {
       "model_id": "3853ff6f43704f299bdfd491c915207f",
       "version_major": 2,
       "version_minor": 0
      },
      "text/plain": [
       "  0%|          | 0/7 [00:00<?, ?it/s]"
      ]
     },
     "metadata": {},
     "output_type": "display_data"
    },
    {
     "data": {
      "application/vnd.jupyter.widget-view+json": {
       "model_id": "4c31c443e3e44d16b1861b256e961e66",
       "version_major": 2,
       "version_minor": 0
      },
      "text/plain": [
       "  0%|          | 0/11 [00:00<?, ?it/s]"
      ]
     },
     "metadata": {},
     "output_type": "display_data"
    }
   ],
   "source": [
    "gasstation_data=[]\n",
    "for gu in tqdm_notebook(gu_names):\n",
    "    element=driver.find_element_by_id('SIGUNGU_NM0')\n",
    "    element.send_keys(gu)\n",
    "    time.sleep(2)\n",
    "\n",
    "    gasstationCode=driver.page_source\n",
    "    bs=BeautifulSoup(gasstationCode,'lxml')\n",
    "    gasstation1=bs.find('tbody',id='body1')\n",
    "    gasstation_raw_data=gasstation1.find_all('tr')\n",
    "    for num1 in tqdm_notebook(gasstation_raw_data):\n",
    "        station_data=num1.find('a')['href'].split(\"','\")\n",
    "        gasstation_data.append({\n",
    "            '주유소명' : station_data[22],\n",
    "            '주소' : station_data[25],\n",
    "            '브랜드': station_data[23],\n",
    "            '휘발유 가격': int(station_data[2]),\n",
    "            '경유 가격': int(station_data[3]),\n",
    "            '셀프 여부':station_data[19],\n",
    "            '세차장 여부':station_data[26],\n",
    "            '충전소 여부':station_data[-2],\n",
    "            '경정비 여부':station_data[27],\n",
    "            '편의점 여부':station_data[28],\n",
    "            '24시간 운영 여부':station_data[20],\n",
    "            '구':station_data[25].split(' ')[1],\n",
    "        })\n",
    "        time.sleep(1)"
   ]
  },
  {
   "cell_type": "code",
   "execution_count": 19,
   "metadata": {},
   "outputs": [],
   "source": [
    "driver.close()"
   ]
  },
  {
   "cell_type": "markdown",
   "metadata": {},
   "source": [
    "### 데이터 프레임으로 정리"
   ]
  },
  {
   "cell_type": "code",
   "execution_count": 20,
   "metadata": {},
   "outputs": [],
   "source": [
    "gasstation_last_data=pd.DataFrame(gasstation_data)"
   ]
  },
  {
   "cell_type": "code",
   "execution_count": 21,
   "metadata": {},
   "outputs": [
    {
     "data": {
      "text/html": [
       "<div>\n",
       "<style scoped>\n",
       "    .dataframe tbody tr th:only-of-type {\n",
       "        vertical-align: middle;\n",
       "    }\n",
       "\n",
       "    .dataframe tbody tr th {\n",
       "        vertical-align: top;\n",
       "    }\n",
       "\n",
       "    .dataframe thead th {\n",
       "        text-align: right;\n",
       "    }\n",
       "</style>\n",
       "<table border=\"1\" class=\"dataframe\">\n",
       "  <thead>\n",
       "    <tr style=\"text-align: right;\">\n",
       "      <th></th>\n",
       "      <th>주유소명</th>\n",
       "      <th>주소</th>\n",
       "      <th>브랜드</th>\n",
       "      <th>휘발유 가격</th>\n",
       "      <th>경유 가격</th>\n",
       "      <th>셀프 여부</th>\n",
       "      <th>세차장 여부</th>\n",
       "      <th>충전소 여부</th>\n",
       "      <th>경정비 여부</th>\n",
       "      <th>편의점 여부</th>\n",
       "      <th>24시간 운영 여부</th>\n",
       "      <th>구</th>\n",
       "    </tr>\n",
       "  </thead>\n",
       "  <tbody>\n",
       "    <tr>\n",
       "      <th>0</th>\n",
       "      <td>(주)보성 세곡주유소</td>\n",
       "      <td>서울 강남구  헌릉로 731 (세곡동)</td>\n",
       "      <td>SK에너지</td>\n",
       "      <td>1648</td>\n",
       "      <td>1519</td>\n",
       "      <td>Y</td>\n",
       "      <td>Y</td>\n",
       "      <td>N</td>\n",
       "      <td>N</td>\n",
       "      <td>N</td>\n",
       "      <td>N</td>\n",
       "      <td>강남구</td>\n",
       "    </tr>\n",
       "    <tr>\n",
       "      <th>1</th>\n",
       "      <td>HD현대오일뱅크㈜직영 산성셀프주유소</td>\n",
       "      <td>서울 강남구 헌릉로 730</td>\n",
       "      <td>HD현대오일뱅크</td>\n",
       "      <td>1677</td>\n",
       "      <td>1539</td>\n",
       "      <td>Y</td>\n",
       "      <td>Y</td>\n",
       "      <td>N</td>\n",
       "      <td>N</td>\n",
       "      <td>N</td>\n",
       "      <td>N</td>\n",
       "      <td>강남구</td>\n",
       "    </tr>\n",
       "    <tr>\n",
       "      <th>2</th>\n",
       "      <td>방죽주유소</td>\n",
       "      <td>서울 강남구 밤고개로 215 (율현동)</td>\n",
       "      <td>GS칼텍스</td>\n",
       "      <td>1697</td>\n",
       "      <td>1559</td>\n",
       "      <td>Y</td>\n",
       "      <td>Y</td>\n",
       "      <td>N</td>\n",
       "      <td>N</td>\n",
       "      <td>N</td>\n",
       "      <td>N</td>\n",
       "      <td>강남구</td>\n",
       "    </tr>\n",
       "    <tr>\n",
       "      <th>3</th>\n",
       "      <td>자곡셀프주유소</td>\n",
       "      <td>서울 강남구 밤고개로 120 (자곡동)</td>\n",
       "      <td>SK에너지</td>\n",
       "      <td>1697</td>\n",
       "      <td>1559</td>\n",
       "      <td>Y</td>\n",
       "      <td>Y</td>\n",
       "      <td>N</td>\n",
       "      <td>N</td>\n",
       "      <td>N</td>\n",
       "      <td>N</td>\n",
       "      <td>강남구</td>\n",
       "    </tr>\n",
       "    <tr>\n",
       "      <th>4</th>\n",
       "      <td>HD현대오일뱅크㈜직영 도곡셀프주유소</td>\n",
       "      <td>서울 강남구  남부순환로 2718 (도곡2동)</td>\n",
       "      <td>HD현대오일뱅크</td>\n",
       "      <td>1719</td>\n",
       "      <td>1599</td>\n",
       "      <td>Y</td>\n",
       "      <td>Y</td>\n",
       "      <td>N</td>\n",
       "      <td>Y</td>\n",
       "      <td>N</td>\n",
       "      <td>N</td>\n",
       "      <td>강남구</td>\n",
       "    </tr>\n",
       "    <tr>\n",
       "      <th>5</th>\n",
       "      <td>오일프러스 셀프</td>\n",
       "      <td>서울 강남구 남부순환로 2651 (도곡동)</td>\n",
       "      <td>SK에너지</td>\n",
       "      <td>1726</td>\n",
       "      <td>1604</td>\n",
       "      <td>Y</td>\n",
       "      <td>Y</td>\n",
       "      <td>N</td>\n",
       "      <td>Y</td>\n",
       "      <td>N</td>\n",
       "      <td>Y</td>\n",
       "      <td>강남구</td>\n",
       "    </tr>\n",
       "    <tr>\n",
       "      <th>6</th>\n",
       "      <td>HD현대오일뱅크㈜직영 유진주유소</td>\n",
       "      <td>서울 강남구 논현로 152 (도곡동)</td>\n",
       "      <td>HD현대오일뱅크</td>\n",
       "      <td>1729</td>\n",
       "      <td>1614</td>\n",
       "      <td>N</td>\n",
       "      <td>Y</td>\n",
       "      <td>N</td>\n",
       "      <td>Y</td>\n",
       "      <td>N</td>\n",
       "      <td>N</td>\n",
       "      <td>강남구</td>\n",
       "    </tr>\n",
       "  </tbody>\n",
       "</table>\n",
       "</div>"
      ],
      "text/plain": [
       "                  주유소명                         주소       브랜드  휘발유 가격  경유 가격  \\\n",
       "0          (주)보성 세곡주유소      서울 강남구  헌릉로 731 (세곡동)     SK에너지    1648   1519   \n",
       "1  HD현대오일뱅크㈜직영 산성셀프주유소             서울 강남구 헌릉로 730  HD현대오일뱅크    1677   1539   \n",
       "2                방죽주유소      서울 강남구 밤고개로 215 (율현동)     GS칼텍스    1697   1559   \n",
       "3              자곡셀프주유소      서울 강남구 밤고개로 120 (자곡동)     SK에너지    1697   1559   \n",
       "4  HD현대오일뱅크㈜직영 도곡셀프주유소  서울 강남구  남부순환로 2718 (도곡2동)  HD현대오일뱅크    1719   1599   \n",
       "5             오일프러스 셀프    서울 강남구 남부순환로 2651 (도곡동)     SK에너지    1726   1604   \n",
       "6    HD현대오일뱅크㈜직영 유진주유소       서울 강남구 논현로 152 (도곡동)  HD현대오일뱅크    1729   1614   \n",
       "\n",
       "  셀프 여부 세차장 여부 충전소 여부 경정비 여부 편의점 여부 24시간 운영 여부    구  \n",
       "0     Y      Y      N      N      N          N  강남구  \n",
       "1     Y      Y      N      N      N          N  강남구  \n",
       "2     Y      Y      N      N      N          N  강남구  \n",
       "3     Y      Y      N      N      N          N  강남구  \n",
       "4     Y      Y      N      Y      N          N  강남구  \n",
       "5     Y      Y      N      Y      N          Y  강남구  \n",
       "6     N      Y      N      Y      N          N  강남구  "
      ]
     },
     "execution_count": 21,
     "metadata": {},
     "output_type": "execute_result"
    }
   ],
   "source": [
    "gasstation_last_data.head(7)"
   ]
  },
  {
   "cell_type": "markdown",
   "metadata": {},
   "source": [
    "### 경도 위도 추가하기"
   ]
  },
  {
   "cell_type": "code",
   "execution_count": 24,
   "metadata": {},
   "outputs": [],
   "source": [
    "gmaps_key='...'\n",
    "gmaps=googlemaps.Client(key=gmaps_key)"
   ]
  },
  {
   "cell_type": "code",
   "execution_count": 25,
   "metadata": {},
   "outputs": [
    {
     "name": "stderr",
     "output_type": "stream",
     "text": [
      "C:\\Users\\Ssoony\\AppData\\Local\\Temp\\ipykernel_14880\\593504756.py:1: TqdmDeprecationWarning: This function will be removed in tqdm==5.0.0\n",
      "Please use `tqdm.notebook.tqdm` instead of `tqdm.tqdm_notebook`\n",
      "  for idx, row in tqdm_notebook(gasstation_last_data.iterrows()):\n"
     ]
    },
    {
     "data": {
      "application/vnd.jupyter.widget-view+json": {
       "model_id": "729d70f1e1ed4206928701baa0c14966",
       "version_major": 2,
       "version_minor": 0
      },
      "text/plain": [
       "0it [00:00, ?it/s]"
      ]
     },
     "metadata": {},
     "output_type": "display_data"
    }
   ],
   "source": [
    "for idx, row in tqdm_notebook(gasstation_last_data.iterrows()):\n",
    "    tmp=gmaps.geocode(row['주소'], language='ko')\n",
    "    lat=tmp[0].get('geometry')['location']['lat']\n",
    "    lng=tmp[0].get('geometry')['location']['lng']\n",
    "    gasstation_last_data.loc[idx, '위도']=lat\n",
    "    gasstation_last_data.loc[idx, '경도']=lng\n"
   ]
  },
  {
   "cell_type": "code",
   "execution_count": 445,
   "metadata": {},
   "outputs": [],
   "source": [
    "gasstation_last_data.rename(\n",
    "    columns={\n",
    "        '주유소명' : 'station_name',\n",
    "        '주소' : 'adress',\n",
    "        '브랜드' : 'brand',\n",
    "        '휘발유 가격' : 'gasolin_price',\n",
    "        '경유 가격' : 'diesel_price',\n",
    "        '셀프 여부' : 'self_YN',\n",
    "        '세차장 여부' : 'wash_YN',\n",
    "        '충전소 여부' : 'LPG_YN',\n",
    "        '경정비 여부' : 'repair_YN',\n",
    "        '편의점 여부' : 'store_YN',\n",
    "        '24시간 운영 여부' : '24hour_YN',\n",
    "        '구':'gu',\n",
    "        '위도':'lat',\n",
    "        '경도':'lng',\n",
    "    },inplace=True\n",
    ")"
   ]
  },
  {
   "cell_type": "code",
   "execution_count": 446,
   "metadata": {},
   "outputs": [
    {
     "data": {
      "text/html": [
       "<div>\n",
       "<style scoped>\n",
       "    .dataframe tbody tr th:only-of-type {\n",
       "        vertical-align: middle;\n",
       "    }\n",
       "\n",
       "    .dataframe tbody tr th {\n",
       "        vertical-align: top;\n",
       "    }\n",
       "\n",
       "    .dataframe thead th {\n",
       "        text-align: right;\n",
       "    }\n",
       "</style>\n",
       "<table border=\"1\" class=\"dataframe\">\n",
       "  <thead>\n",
       "    <tr style=\"text-align: right;\">\n",
       "      <th></th>\n",
       "      <th>station_name</th>\n",
       "      <th>adress</th>\n",
       "      <th>brand</th>\n",
       "      <th>gasolin_price</th>\n",
       "      <th>diesel_price</th>\n",
       "      <th>self_YN</th>\n",
       "      <th>wash_YN</th>\n",
       "      <th>LPG_YN</th>\n",
       "      <th>repair_YN</th>\n",
       "      <th>store_YN</th>\n",
       "      <th>24hour_YN</th>\n",
       "      <th>gu</th>\n",
       "      <th>lat</th>\n",
       "      <th>lng</th>\n",
       "    </tr>\n",
       "  </thead>\n",
       "  <tbody>\n",
       "    <tr>\n",
       "      <th>0</th>\n",
       "      <td>(주)보성 세곡주유소</td>\n",
       "      <td>서울 강남구  헌릉로 731 (세곡동)</td>\n",
       "      <td>SK에너지</td>\n",
       "      <td>1580</td>\n",
       "      <td>1789</td>\n",
       "      <td>Y</td>\n",
       "      <td>Y</td>\n",
       "      <td>N</td>\n",
       "      <td>N</td>\n",
       "      <td>N</td>\n",
       "      <td>N</td>\n",
       "      <td>강남구</td>\n",
       "      <td>37.467210</td>\n",
       "      <td>127.118713</td>\n",
       "    </tr>\n",
       "    <tr>\n",
       "      <th>1</th>\n",
       "      <td>(주)중앙에너비스 수서지점</td>\n",
       "      <td>서울 강남구 광평로 202 (수서동)</td>\n",
       "      <td>SK에너지</td>\n",
       "      <td>1587</td>\n",
       "      <td>1787</td>\n",
       "      <td>Y</td>\n",
       "      <td>Y</td>\n",
       "      <td>N</td>\n",
       "      <td>N</td>\n",
       "      <td>N</td>\n",
       "      <td>N</td>\n",
       "      <td>강남구</td>\n",
       "      <td>37.483993</td>\n",
       "      <td>127.094978</td>\n",
       "    </tr>\n",
       "    <tr>\n",
       "      <th>2</th>\n",
       "      <td>현대오일뱅크(주)직영 산성셀프주유소</td>\n",
       "      <td>서울 강남구 헌릉로 730</td>\n",
       "      <td>현대오일뱅크</td>\n",
       "      <td>1590</td>\n",
       "      <td>1799</td>\n",
       "      <td>Y</td>\n",
       "      <td>Y</td>\n",
       "      <td>N</td>\n",
       "      <td>N</td>\n",
       "      <td>N</td>\n",
       "      <td>N</td>\n",
       "      <td>강남구</td>\n",
       "      <td>37.466478</td>\n",
       "      <td>127.119039</td>\n",
       "    </tr>\n",
       "    <tr>\n",
       "      <th>3</th>\n",
       "      <td>방죽주유소</td>\n",
       "      <td>서울 강남구 밤고개로 215 (율현동)</td>\n",
       "      <td>GS칼텍스</td>\n",
       "      <td>1597</td>\n",
       "      <td>1799</td>\n",
       "      <td>Y</td>\n",
       "      <td>Y</td>\n",
       "      <td>N</td>\n",
       "      <td>N</td>\n",
       "      <td>N</td>\n",
       "      <td>N</td>\n",
       "      <td>강남구</td>\n",
       "      <td>37.474940</td>\n",
       "      <td>127.106852</td>\n",
       "    </tr>\n",
       "    <tr>\n",
       "      <th>4</th>\n",
       "      <td>자곡셀프주유소</td>\n",
       "      <td>서울 강남구 밤고개로 120 (자곡동)</td>\n",
       "      <td>SK에너지</td>\n",
       "      <td>1598</td>\n",
       "      <td>1799</td>\n",
       "      <td>Y</td>\n",
       "      <td>Y</td>\n",
       "      <td>N</td>\n",
       "      <td>N</td>\n",
       "      <td>N</td>\n",
       "      <td>N</td>\n",
       "      <td>강남구</td>\n",
       "      <td>37.483532</td>\n",
       "      <td>127.103980</td>\n",
       "    </tr>\n",
       "  </tbody>\n",
       "</table>\n",
       "</div>"
      ],
      "text/plain": [
       "          station_name                 adress   brand  gasolin_price  \\\n",
       "0          (주)보성 세곡주유소  서울 강남구  헌릉로 731 (세곡동)   SK에너지           1580   \n",
       "1       (주)중앙에너비스 수서지점   서울 강남구 광평로 202 (수서동)   SK에너지           1587   \n",
       "2  현대오일뱅크(주)직영 산성셀프주유소         서울 강남구 헌릉로 730  현대오일뱅크           1590   \n",
       "3                방죽주유소  서울 강남구 밤고개로 215 (율현동)   GS칼텍스           1597   \n",
       "4              자곡셀프주유소  서울 강남구 밤고개로 120 (자곡동)   SK에너지           1598   \n",
       "\n",
       "   diesel_price self_YN wash_YN LPG_YN repair_YN store_YN 24hour_YN   gu  \\\n",
       "0          1789       Y       Y      N         N        N         N  강남구   \n",
       "1          1787       Y       Y      N         N        N         N  강남구   \n",
       "2          1799       Y       Y      N         N        N         N  강남구   \n",
       "3          1799       Y       Y      N         N        N         N  강남구   \n",
       "4          1799       Y       Y      N         N        N         N  강남구   \n",
       "\n",
       "         lat         lng  \n",
       "0  37.467210  127.118713  \n",
       "1  37.483993  127.094978  \n",
       "2  37.466478  127.119039  \n",
       "3  37.474940  127.106852  \n",
       "4  37.483532  127.103980  "
      ]
     },
     "execution_count": 446,
     "metadata": {},
     "output_type": "execute_result"
    }
   ],
   "source": [
    "gasstation_last_data.head()"
   ]
  },
  {
   "attachments": {},
   "cell_type": "markdown",
   "metadata": {},
   "source": [
    "---"
   ]
  },
  {
   "attachments": {},
   "cell_type": "markdown",
   "metadata": {},
   "source": [
    "# 셀프 주유소에서 휘발유와 경유의 가격이 더 저렴한가?"
   ]
  },
  {
   "cell_type": "code",
   "execution_count": 26,
   "metadata": {},
   "outputs": [],
   "source": [
    "import matplotlib.pyplot as plt\n",
    "plt.rc('font', family='NanumBarunGothic')"
   ]
  },
  {
   "cell_type": "code",
   "execution_count": 28,
   "metadata": {},
   "outputs": [
    {
     "data": {
      "text/html": [
       "<div>\n",
       "<style scoped>\n",
       "    .dataframe tbody tr th:only-of-type {\n",
       "        vertical-align: middle;\n",
       "    }\n",
       "\n",
       "    .dataframe tbody tr th {\n",
       "        vertical-align: top;\n",
       "    }\n",
       "\n",
       "    .dataframe thead th {\n",
       "        text-align: right;\n",
       "    }\n",
       "</style>\n",
       "<table border=\"1\" class=\"dataframe\">\n",
       "  <thead>\n",
       "    <tr style=\"text-align: right;\">\n",
       "      <th></th>\n",
       "      <th>주유소명</th>\n",
       "      <th>주소</th>\n",
       "      <th>브랜드</th>\n",
       "      <th>휘발유 가격</th>\n",
       "      <th>경유 가격</th>\n",
       "      <th>셀프 여부</th>\n",
       "      <th>세차장 여부</th>\n",
       "      <th>충전소 여부</th>\n",
       "      <th>경정비 여부</th>\n",
       "      <th>편의점 여부</th>\n",
       "      <th>24시간 운영 여부</th>\n",
       "      <th>구</th>\n",
       "      <th>위도</th>\n",
       "      <th>경도</th>\n",
       "    </tr>\n",
       "  </thead>\n",
       "  <tbody>\n",
       "    <tr>\n",
       "      <th>0</th>\n",
       "      <td>(주)보성 세곡주유소</td>\n",
       "      <td>서울 강남구  헌릉로 731 (세곡동)</td>\n",
       "      <td>SK에너지</td>\n",
       "      <td>1648</td>\n",
       "      <td>1519</td>\n",
       "      <td>Y</td>\n",
       "      <td>Y</td>\n",
       "      <td>N</td>\n",
       "      <td>N</td>\n",
       "      <td>N</td>\n",
       "      <td>N</td>\n",
       "      <td>강남구</td>\n",
       "      <td>37.467157</td>\n",
       "      <td>127.118708</td>\n",
       "    </tr>\n",
       "    <tr>\n",
       "      <th>1</th>\n",
       "      <td>HD현대오일뱅크㈜직영 산성셀프주유소</td>\n",
       "      <td>서울 강남구 헌릉로 730</td>\n",
       "      <td>HD현대오일뱅크</td>\n",
       "      <td>1677</td>\n",
       "      <td>1539</td>\n",
       "      <td>Y</td>\n",
       "      <td>Y</td>\n",
       "      <td>N</td>\n",
       "      <td>N</td>\n",
       "      <td>N</td>\n",
       "      <td>N</td>\n",
       "      <td>강남구</td>\n",
       "      <td>37.466567</td>\n",
       "      <td>127.119080</td>\n",
       "    </tr>\n",
       "    <tr>\n",
       "      <th>2</th>\n",
       "      <td>방죽주유소</td>\n",
       "      <td>서울 강남구 밤고개로 215 (율현동)</td>\n",
       "      <td>GS칼텍스</td>\n",
       "      <td>1697</td>\n",
       "      <td>1559</td>\n",
       "      <td>Y</td>\n",
       "      <td>Y</td>\n",
       "      <td>N</td>\n",
       "      <td>N</td>\n",
       "      <td>N</td>\n",
       "      <td>N</td>\n",
       "      <td>강남구</td>\n",
       "      <td>37.474993</td>\n",
       "      <td>127.106887</td>\n",
       "    </tr>\n",
       "    <tr>\n",
       "      <th>3</th>\n",
       "      <td>자곡셀프주유소</td>\n",
       "      <td>서울 강남구 밤고개로 120 (자곡동)</td>\n",
       "      <td>SK에너지</td>\n",
       "      <td>1697</td>\n",
       "      <td>1559</td>\n",
       "      <td>Y</td>\n",
       "      <td>Y</td>\n",
       "      <td>N</td>\n",
       "      <td>N</td>\n",
       "      <td>N</td>\n",
       "      <td>N</td>\n",
       "      <td>강남구</td>\n",
       "      <td>37.483400</td>\n",
       "      <td>127.104046</td>\n",
       "    </tr>\n",
       "    <tr>\n",
       "      <th>4</th>\n",
       "      <td>HD현대오일뱅크㈜직영 도곡셀프주유소</td>\n",
       "      <td>서울 강남구  남부순환로 2718 (도곡2동)</td>\n",
       "      <td>HD현대오일뱅크</td>\n",
       "      <td>1719</td>\n",
       "      <td>1599</td>\n",
       "      <td>Y</td>\n",
       "      <td>Y</td>\n",
       "      <td>N</td>\n",
       "      <td>Y</td>\n",
       "      <td>N</td>\n",
       "      <td>N</td>\n",
       "      <td>강남구</td>\n",
       "      <td>37.485462</td>\n",
       "      <td>127.043218</td>\n",
       "    </tr>\n",
       "  </tbody>\n",
       "</table>\n",
       "</div>"
      ],
      "text/plain": [
       "                  주유소명                         주소       브랜드  휘발유 가격  경유 가격  \\\n",
       "0          (주)보성 세곡주유소      서울 강남구  헌릉로 731 (세곡동)     SK에너지    1648   1519   \n",
       "1  HD현대오일뱅크㈜직영 산성셀프주유소             서울 강남구 헌릉로 730  HD현대오일뱅크    1677   1539   \n",
       "2                방죽주유소      서울 강남구 밤고개로 215 (율현동)     GS칼텍스    1697   1559   \n",
       "3              자곡셀프주유소      서울 강남구 밤고개로 120 (자곡동)     SK에너지    1697   1559   \n",
       "4  HD현대오일뱅크㈜직영 도곡셀프주유소  서울 강남구  남부순환로 2718 (도곡2동)  HD현대오일뱅크    1719   1599   \n",
       "\n",
       "  셀프 여부 세차장 여부 충전소 여부 경정비 여부 편의점 여부 24시간 운영 여부    구         위도          경도  \n",
       "0     Y      Y      N      N      N          N  강남구  37.467157  127.118708  \n",
       "1     Y      Y      N      N      N          N  강남구  37.466567  127.119080  \n",
       "2     Y      Y      N      N      N          N  강남구  37.474993  127.106887  \n",
       "3     Y      Y      N      N      N          N  강남구  37.483400  127.104046  \n",
       "4     Y      Y      N      Y      N          N  강남구  37.485462  127.043218  "
      ]
     },
     "execution_count": 28,
     "metadata": {},
     "output_type": "execute_result"
    }
   ],
   "source": [
    "gasstation_last_data.head()"
   ]
  },
  {
   "cell_type": "markdown",
   "metadata": {},
   "source": [
    "## 평균과 표준편차 계산하기"
   ]
  },
  {
   "cell_type": "code",
   "execution_count": 160,
   "metadata": {},
   "outputs": [
    {
     "name": "stderr",
     "output_type": "stream",
     "text": [
      "C:\\Users\\Ssoony\\AppData\\Local\\Temp\\ipykernel_14880\\932207173.py:1: FutureWarning: The default value of numeric_only in DataFrameGroupBy.mean is deprecated. In a future version, numeric_only will default to False. Either specify numeric_only or select only columns which should be valid for the function.\n",
      "  gasdata_mean=gasstation_last_data.groupby(['셀프 여부']).mean()\n"
     ]
    }
   ],
   "source": [
    "gasdata_mean=gasstation_last_data.groupby(['셀프 여부']).mean()"
   ]
  },
  {
   "cell_type": "code",
   "execution_count": 161,
   "metadata": {},
   "outputs": [
    {
     "name": "stderr",
     "output_type": "stream",
     "text": [
      "C:\\Users\\Ssoony\\AppData\\Local\\Temp\\ipykernel_14880\\3054584804.py:1: FutureWarning: The default value of numeric_only in DataFrameGroupBy.std is deprecated. In a future version, numeric_only will default to False. Either specify numeric_only or select only columns which should be valid for the function.\n",
      "  gasdata_std=gasstation_last_data.groupby(['셀프 여부']).std()\n"
     ]
    }
   ],
   "source": [
    "gasdata_std=gasstation_last_data.groupby(['셀프 여부']).std()"
   ]
  },
  {
   "cell_type": "code",
   "execution_count": 46,
   "metadata": {},
   "outputs": [
    {
     "data": {
      "text/html": [
       "<div>\n",
       "<style scoped>\n",
       "    .dataframe tbody tr th:only-of-type {\n",
       "        vertical-align: middle;\n",
       "    }\n",
       "\n",
       "    .dataframe tbody tr th {\n",
       "        vertical-align: top;\n",
       "    }\n",
       "\n",
       "    .dataframe thead th {\n",
       "        text-align: right;\n",
       "    }\n",
       "</style>\n",
       "<table border=\"1\" class=\"dataframe\">\n",
       "  <thead>\n",
       "    <tr style=\"text-align: right;\">\n",
       "      <th></th>\n",
       "      <th>휘발유 가격</th>\n",
       "      <th>경유 가격</th>\n",
       "      <th>위도</th>\n",
       "      <th>경도</th>\n",
       "    </tr>\n",
       "    <tr>\n",
       "      <th>셀프 여부</th>\n",
       "      <th></th>\n",
       "      <th></th>\n",
       "      <th></th>\n",
       "      <th></th>\n",
       "    </tr>\n",
       "  </thead>\n",
       "  <tbody>\n",
       "    <tr>\n",
       "      <th>N</th>\n",
       "      <td>249.035256</td>\n",
       "      <td>259.497307</td>\n",
       "      <td>0.044238</td>\n",
       "      <td>0.083923</td>\n",
       "    </tr>\n",
       "    <tr>\n",
       "      <th>Y</th>\n",
       "      <td>63.868898</td>\n",
       "      <td>75.622915</td>\n",
       "      <td>0.055817</td>\n",
       "      <td>0.096699</td>\n",
       "    </tr>\n",
       "  </tbody>\n",
       "</table>\n",
       "</div>"
      ],
      "text/plain": [
       "           휘발유 가격       경유 가격        위도        경도\n",
       "셀프 여부                                            \n",
       "N      249.035256  259.497307  0.044238  0.083923\n",
       "Y       63.868898   75.622915  0.055817  0.096699"
      ]
     },
     "execution_count": 46,
     "metadata": {},
     "output_type": "execute_result"
    }
   ],
   "source": [
    "gasdata_std"
   ]
  },
  {
   "cell_type": "code",
   "execution_count": 44,
   "metadata": {},
   "outputs": [
    {
     "data": {
      "text/html": [
       "<div>\n",
       "<style scoped>\n",
       "    .dataframe tbody tr th:only-of-type {\n",
       "        vertical-align: middle;\n",
       "    }\n",
       "\n",
       "    .dataframe tbody tr th {\n",
       "        vertical-align: top;\n",
       "    }\n",
       "\n",
       "    .dataframe thead th {\n",
       "        text-align: right;\n",
       "    }\n",
       "</style>\n",
       "<table border=\"1\" class=\"dataframe\">\n",
       "  <thead>\n",
       "    <tr style=\"text-align: right;\">\n",
       "      <th></th>\n",
       "      <th>휘발유 가격</th>\n",
       "      <th>경유 가격</th>\n",
       "      <th>위도</th>\n",
       "      <th>경도</th>\n",
       "    </tr>\n",
       "    <tr>\n",
       "      <th>셀프 여부</th>\n",
       "      <th></th>\n",
       "      <th></th>\n",
       "      <th></th>\n",
       "      <th></th>\n",
       "    </tr>\n",
       "  </thead>\n",
       "  <tbody>\n",
       "    <tr>\n",
       "      <th>N</th>\n",
       "      <td>1840.235772</td>\n",
       "      <td>1707.000000</td>\n",
       "      <td>37.534783</td>\n",
       "      <td>126.985933</td>\n",
       "    </tr>\n",
       "    <tr>\n",
       "      <th>Y</th>\n",
       "      <td>1666.691304</td>\n",
       "      <td>1527.452174</td>\n",
       "      <td>37.548457</td>\n",
       "      <td>126.990707</td>\n",
       "    </tr>\n",
       "  </tbody>\n",
       "</table>\n",
       "</div>"
      ],
      "text/plain": [
       "            휘발유 가격        경유 가격         위도          경도\n",
       "셀프 여부                                                 \n",
       "N      1840.235772  1707.000000  37.534783  126.985933\n",
       "Y      1666.691304  1527.452174  37.548457  126.990707"
      ]
     },
     "execution_count": 44,
     "metadata": {},
     "output_type": "execute_result"
    }
   ],
   "source": [
    "gasdata_mean"
   ]
  },
  {
   "cell_type": "markdown",
   "metadata": {},
   "source": [
    "## 확률밀도함수 그리기"
   ]
  },
  {
   "cell_type": "code",
   "execution_count": 157,
   "metadata": {},
   "outputs": [
    {
     "data": {
      "image/png": "[encoded data removed]",
      "text/plain": [
       "<Figure size 563.736x500 with 1 Axes>"
      ]
     },
     "metadata": {},
     "output_type": "display_data"
    }
   ],
   "source": [
    "sns.displot(gasstation_last_data, x=\"휘발유 가격\", hue=\"셀프 여부\", stat=\"probability\",kde=True)\n",
    "plt.title('셀프 여부에 따른 휘발유 가격의 확률밀도함수')\n",
    "plt.show()"
   ]
  },
  {
   "cell_type": "code",
   "execution_count": 159,
   "metadata": {},
   "outputs": [
    {
     "data": {
      "image/png": "[encoded data removed]",
      "text/plain": [
       "<Figure size 563.736x500 with 1 Axes>"
      ]
     },
     "metadata": {},
     "output_type": "display_data"
    }
   ],
   "source": [
    "sns.displot(gasstation_last_data, x=\"경유 가격\", hue=\"셀프 여부\", stat=\"probability\",kde=True)\n",
    "plt.title('셀프 여부에 따른 경유 가격의 확률밀도함수')\n",
    "plt.show()"
   ]
  },
  {
   "cell_type": "markdown",
   "metadata": {},
   "source": [
    "## t-test 하기"
   ]
  },
  {
   "cell_type": "markdown",
   "metadata": {},
   "source": [
    "### 휘발유 가격 비교하기"
   ]
  },
  {
   "cell_type": "markdown",
   "metadata": {},
   "source": [
    "#### 표본 개수 확인하기"
   ]
  },
  {
   "cell_type": "code",
   "execution_count": 162,
   "metadata": {},
   "outputs": [],
   "source": [
    "import numpy as np\n",
    "import scipy as sp\n",
    "from matplotlib import rc"
   ]
  },
  {
   "cell_type": "code",
   "execution_count": 238,
   "metadata": {},
   "outputs": [
    {
     "data": {
      "text/plain": [
       "(230, 123)"
      ]
     },
     "execution_count": 238,
     "metadata": {},
     "output_type": "execute_result"
    }
   ],
   "source": [
    "x1 = gasstation_last_data.loc[gasstation_last_data['셀프 여부']=='Y','휘발유 가격']\n",
    "x2 = gasstation_last_data.loc[gasstation_last_data['셀프 여부']=='N','휘발유 가격']\n",
    "len(x1), len(x2)"
   ]
  },
  {
   "cell_type": "markdown",
   "metadata": {},
   "source": [
    "#### 등분산성 검정"
   ]
  },
  {
   "cell_type": "code",
   "execution_count": 209,
   "metadata": {},
   "outputs": [
    {
     "name": "stdout",
     "output_type": "stream",
     "text": [
      "검정통계량 : 196.19810213571557, p-value : 1.0152028246072891e-35\n",
      "귀무가설을 기각한다\n"
     ]
    }
   ],
   "source": [
    "from scipy.stats import levene\n",
    "stat ,p = levene(x1,x2, center = 'mean')\n",
    "print(f'검정통계량 : {stat}, p-value : {p}')\n",
    "if p >= 0.05:\n",
    "    print('귀무가설을 기각할 수 없다')\n",
    "else : \n",
    "    print('귀무가설을 기각한다')"
   ]
  },
  {
   "cell_type": "markdown",
   "metadata": {},
   "source": [
    "#### Welcht-test 하기"
   ]
  },
  {
   "cell_type": "code",
   "execution_count": 232,
   "metadata": {},
   "outputs": [
    {
     "name": "stdout",
     "output_type": "stream",
     "text": [
      "검정통계량 : -7.5961862065264745, p-value : 2.5955650009809643e-12\n",
      "귀무가설을 기각한다\n"
     ]
    }
   ],
   "source": [
    "from scipy import stats\n",
    "stat, p = stats.ttest_ind(x1,x2, alternative='less', equal_var=False)\n",
    "print(f'검정통계량 : {stat}, p-value : {p}')\n",
    "if p >= 0.05:\n",
    "    print('귀무가설을 기각할 수 없다')\n",
    "else :\n",
    "    print('귀무가설을 기각한다')"
   ]
  },
  {
   "cell_type": "markdown",
   "metadata": {},
   "source": [
    "#### mann Whitney U test 하기"
   ]
  },
  {
   "cell_type": "code",
   "execution_count": 235,
   "metadata": {},
   "outputs": [
    {
     "name": "stdout",
     "output_type": "stream",
     "text": [
      "검정통계량 : 5810.5, p-value : 3.601330860051542e-20\n",
      "귀무가설을 기각한다\n"
     ]
    }
   ],
   "source": [
    "from scipy import stats\n",
    "stat, p = stats.mannwhitneyu(x1,x2, alternative='less')\n",
    "print(f'검정통계량 : {stat}, p-value : {p}')\n",
    "if p >= 0.05:\n",
    "    print('귀무가설을 기각할 수 없다')\n",
    "else : \n",
    "    print('귀무가설을 기각한다')"
   ]
  },
  {
   "cell_type": "markdown",
   "metadata": {},
   "source": [
    "### 경유 가격 비교하기"
   ]
  },
  {
   "cell_type": "code",
   "execution_count": 243,
   "metadata": {},
   "outputs": [
    {
     "data": {
      "text/plain": [
       "(230, 123)"
      ]
     },
     "execution_count": 243,
     "metadata": {},
     "output_type": "execute_result"
    }
   ],
   "source": [
    "y1 = gasstation_last_data.loc[gasstation_last_data['셀프 여부']=='Y','경유 가격']\n",
    "y2 = gasstation_last_data.loc[gasstation_last_data['셀프 여부']=='N','경유 가격']\n",
    "len(y1), len(y2)"
   ]
  },
  {
   "cell_type": "markdown",
   "metadata": {},
   "source": [
    "#### 등분산성 검정"
   ]
  },
  {
   "cell_type": "code",
   "execution_count": 244,
   "metadata": {},
   "outputs": [
    {
     "name": "stdout",
     "output_type": "stream",
     "text": [
      "검정통계량 : 140.9094893669016, p-value : 1.4893035246354747e-27\n",
      "귀무가설을 기각한다\n"
     ]
    }
   ],
   "source": [
    "from scipy.stats import levene\n",
    "stat ,p = levene(y1,y2, center = 'mean')\n",
    "print(f'검정통계량 : {stat}, p-value : {p}')\n",
    "if p >= 0.05:\n",
    "    print('귀무가설을 기각할 수 없다')\n",
    "else : \n",
    "    print('귀무가설을 기각한다')"
   ]
  },
  {
   "cell_type": "markdown",
   "metadata": {},
   "source": [
    "#### Welcht-test 하기"
   ]
  },
  {
   "cell_type": "code",
   "execution_count": 245,
   "metadata": {},
   "outputs": [
    {
     "name": "stdout",
     "output_type": "stream",
     "text": [
      "검정통계량 : -7.505075637428561, p-value : 3.921077563186161e-12\n",
      "귀무가설을 기각한다\n"
     ]
    }
   ],
   "source": [
    "from scipy import stats\n",
    "stat, p = stats.ttest_ind(y1,y2, alternative='less', equal_var=False)\n",
    "print(f'검정통계량 : {stat}, p-value : {p}')\n",
    "if p >= 0.05:\n",
    "    print('귀무가설을 기각할 수 없다')\n",
    "else :\n",
    "    print('귀무가설을 기각한다')"
   ]
  },
  {
   "cell_type": "markdown",
   "metadata": {},
   "source": [
    "#### mann Whitney U test 하기"
   ]
  },
  {
   "cell_type": "code",
   "execution_count": 246,
   "metadata": {},
   "outputs": [
    {
     "name": "stdout",
     "output_type": "stream",
     "text": [
      "검정통계량 : 6242.5, p-value : 2.5558777502111225e-18\n",
      "귀무가설을 기각한다\n"
     ]
    }
   ],
   "source": [
    "from scipy import stats\n",
    "stat, p = stats.mannwhitneyu(y1,y2, alternative='less')\n",
    "print(f'검정통계량 : {stat}, p-value : {p}')\n",
    "if p >= 0.05:\n",
    "    print('귀무가설을 기각할 수 없다')\n",
    "else : \n",
    "    print('귀무가설을 기각한다')"
   ]
  },
  {
   "attachments": {},
   "cell_type": "markdown",
   "metadata": {},
   "source": [
    "---"
   ]
  }
 ],
 "metadata": {
  "kernelspec": {
   "display_name": "ds_study",
   "language": "python",
   "name": "python3"
  },
  "language_info": {
   "codemirror_mode": {
    "name": "ipython",
    "version": 3
   },
   "file_extension": ".py",
   "mimetype": "text/x-python",
   "name": "python",
   "nbconvert_exporter": "python",
   "pygments_lexer": "ipython3",
   "version": "3.8.15"
  },
  "orig_nbformat": 4,
  "vscode": {
   "interpreter": {
    "hash": "aceed0165250393bc6d3372b6222b9c0e82e6c885f449d3111c6d29b3e13c33a"
   }
  }
 },
 "nbformat": 4,
 "nbformat_minor": 2
}
